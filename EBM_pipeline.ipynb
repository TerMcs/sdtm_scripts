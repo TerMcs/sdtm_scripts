{
 "cells": [
  {
   "cell_type": "code",
   "execution_count": null,
   "id": "f2a9f322",
   "metadata": {},
   "outputs": [],
   "source": [
    "import pandas as pd\n",
    "import matplotlib.pyplot as plt\n",
    "import numpy as np\n",
    "from sklearn.neighbors import KernelDensity\n",
    "import statsmodels.api as sm\n",
    "from statsmodels.miscmodels.ordinal_model import OrderedModel\n",
    "import seaborn as sns\n",
    "from pathlib import Path\n",
    "import pickle\n",
    "import pySuStaIn\n",
    "from sklearn.model_selection import train_test_split\n",
    "import sklearn\n",
    "import statsmodels.api as sm\n",
    "from psmpy import PsmPy\n",
    "from psmpy.functions import cohenD\n",
    "from psmpy.plotting import *\n",
    "import os\n",
    "from scipy import stats\n",
    "import matplotlib.lines as mlines\n"
   ]
  },
  {
   "cell_type": "code",
   "execution_count": null,
   "id": "813cc007",
   "metadata": {},
   "outputs": [],
   "source": [
    "variable_selection = [\n",
    "       'L1_L2_ivd_mc', 'L2_L3_ivd_mc', 'L3_L4_ivd_mc', 'L4_L5_ivd_mc', 'L5_S1_ivd_mc', \n",
    "       'L1_L2_ivd_ep', 'L2_L3_ivd_ep', 'L3_L4_ivd_ep', 'L4_L5_ivd_ep', 'L5_S1_ivd_ep',\n",
    "       'disc_ddd_12_nl', 'disc_ddd_23_nl', 'disc_ddd_34_nl', 'disc_ddd_45_nl', 'disc_ddd_51_nl',\n",
    "       'facet_fj_oa_12_nl', 'facet_fj_oa_23_nl', 'facet_fj_oa_34_nl', 'facet_fj_oa_45_nl', 'facet_fj_oa_51_nl',\n",
    "       'stenosis_si_joints',\n",
    "       ]\n",
    "\n",
    "include_controls = True\n",
    "\n",
    "dataset_name = 'strict_ivd_fjoa_mc_ep_sij'\n",
    "\n",
    "output_folder = '../outputs/final_models'"
   ]
  },
  {
   "cell_type": "code",
   "execution_count": null,
   "id": "44fb40c4",
   "metadata": {},
   "outputs": [],
   "source": [
    "filepath = 'tmcs/data/UCSF_ComeBACK/REACH_scores_20250423.csv'\n",
    "reach_scores = pd.read_csv(filepath)\n",
    "\n",
    "reach_scores['mri_id'] = reach_scores['mri_id'].str.replace('_reach', '')\n",
    "\n",
    "ids = pd.read_csv('/tmcsdata/UCSF_ComeBACK/MR_session_participant_ID_key.csv') \n",
    "ids = ids[['mri_id', 'participant_id']]\n",
    "\n",
    "reach_scores = reach_scores.merge(ids, on='mri_id')\n",
    "\n",
    "reach_scores['visit'] = np.where(reach_scores['mri_id'].str.contains('BASELINE'), 'baseline', 'follow-up')\n",
    "\n",
    "reach_scores = reach_scores[reach_scores['remove_tmcs'] != 'x']\n",
    "\n",
    "reach_scores['50_50_probs'] = reach_scores['50_50_probs'].str.split(',')\n",
    "\n",
    "for index, row in reach_scores[reach_scores['50_50_probs'].notnull()].iterrows():\n",
    "    strings_to_check = row['50_50_probs']\n",
    "    \n",
    "    for col in reach_scores.columns:\n",
    "        if any(s.strip() in col for s in strings_to_check):\n",
    "            reach_scores.at[index, col] = np.nan"
   ]
  },
  {
   "cell_type": "code",
   "execution_count": 254,
   "id": "37d355fe",
   "metadata": {},
   "outputs": [
    {
     "name": "stderr",
     "output_type": "stream",
     "text": [
      "/var/folders/8l/dkxhdycd15d4pt_h700hp40h0000gq/T/ipykernel_68406/1662241019.py:11: PerformanceWarning: DataFrame is highly fragmented.  This is usually the result of calling `frame.insert` many times, which has poor performance.  Consider joining all columns at once using pd.concat(axis=1) instead. To get a de-fragmented frame, use `newframe = frame.copy()`\n",
      "  reach_scores[level[0]] = None\n",
      "/var/folders/8l/dkxhdycd15d4pt_h700hp40h0000gq/T/ipykernel_68406/1662241019.py:11: PerformanceWarning: DataFrame is highly fragmented.  This is usually the result of calling `frame.insert` many times, which has poor performance.  Consider joining all columns at once using pd.concat(axis=1) instead. To get a de-fragmented frame, use `newframe = frame.copy()`\n",
      "  reach_scores[level[0]] = None\n",
      "/var/folders/8l/dkxhdycd15d4pt_h700hp40h0000gq/T/ipykernel_68406/1662241019.py:11: PerformanceWarning: DataFrame is highly fragmented.  This is usually the result of calling `frame.insert` many times, which has poor performance.  Consider joining all columns at once using pd.concat(axis=1) instead. To get a de-fragmented frame, use `newframe = frame.copy()`\n",
      "  reach_scores[level[0]] = None\n",
      "/var/folders/8l/dkxhdycd15d4pt_h700hp40h0000gq/T/ipykernel_68406/1662241019.py:11: PerformanceWarning: DataFrame is highly fragmented.  This is usually the result of calling `frame.insert` many times, which has poor performance.  Consider joining all columns at once using pd.concat(axis=1) instead. To get a de-fragmented frame, use `newframe = frame.copy()`\n",
      "  reach_scores[level[0]] = None\n",
      "/var/folders/8l/dkxhdycd15d4pt_h700hp40h0000gq/T/ipykernel_68406/1662241019.py:11: PerformanceWarning: DataFrame is highly fragmented.  This is usually the result of calling `frame.insert` many times, which has poor performance.  Consider joining all columns at once using pd.concat(axis=1) instead. To get a de-fragmented frame, use `newframe = frame.copy()`\n",
      "  reach_scores[level[0]] = None\n"
     ]
    }
   ],
   "source": [
    "mc_levels = [  \n",
    "    ['L1_L2_ivd_mc', 'bmic_l1_inf_type', 'bmic_l2_sup_type'],\n",
    "    ['L2_L3_ivd_mc', 'bmic_l2_inf_type', 'bmic_l3_sup_type'],\n",
    "    ['L3_L4_ivd_mc', 'bmic_l3_inf_type', 'bmic_l4_sup_type'],\n",
    "    ['L4_L5_ivd_mc', 'bmic_l4_inf_type', 'bmic_l5_sup_type'], \n",
    "    ['L5_S1_ivd_mc', 'bmic_l5_inf_type', 'bmic_s1_sup_type'], \n",
    "]\n",
    "\n",
    "\n",
    "for level in mc_levels:\n",
    "    reach_scores[level[0]] = None\n",
    "\n",
    "    # important to skip the NaN entries:\n",
    "    for row in reach_scores.iterrows():\n",
    "        if pd.isna(row[1][level[1]]) or pd.isna(row[1][level[2]]):\n",
    "            mc = None\n",
    "            continue\n",
    "        \n",
    "        mc = str(int(row[1][level[1]])) + str(int(row[1][level[2]]))\n",
    "\n",
    "        reach_scores.at[row[0], level[0]] = str(mc)\n",
    "\n",
    "    for row in reach_scores.iterrows():\n",
    "        if reach_scores.at[row[0], level[0]] == '01':\n",
    "            reach_scores.at[row[0], level[0]] = '10'    \n",
    "        elif reach_scores.at[row[0], level[0]] == '02':\n",
    "            reach_scores.at[row[0], level[0]] = '20'\n",
    "        elif reach_scores.at[row[0], level[0]] == '03':\n",
    "            reach_scores.at[row[0], level[0]] = '30'\n",
    "        elif reach_scores.at[row[0], level[0]] == '12':\n",
    "            reach_scores.at[row[0], level[0]] = '21'\n",
    "        elif reach_scores.at[row[0], level[0]] == '13':\n",
    "            reach_scores.at[row[0], level[0]] = '31'\n",
    "        elif reach_scores.at[row[0], level[0]] == '23':\n",
    "            reach_scores.at[row[0], level[0]] = '32'"
   ]
  },
  {
   "cell_type": "code",
   "execution_count": 255,
   "id": "41b90cff",
   "metadata": {},
   "outputs": [
    {
     "name": "stderr",
     "output_type": "stream",
     "text": [
      "/var/folders/8l/dkxhdycd15d4pt_h700hp40h0000gq/T/ipykernel_68406/2671073473.py:11: PerformanceWarning: DataFrame is highly fragmented.  This is usually the result of calling `frame.insert` many times, which has poor performance.  Consider joining all columns at once using pd.concat(axis=1) instead. To get a de-fragmented frame, use `newframe = frame.copy()`\n",
      "  reach_scores[level[0]] = None\n",
      "/var/folders/8l/dkxhdycd15d4pt_h700hp40h0000gq/T/ipykernel_68406/2671073473.py:11: PerformanceWarning: DataFrame is highly fragmented.  This is usually the result of calling `frame.insert` many times, which has poor performance.  Consider joining all columns at once using pd.concat(axis=1) instead. To get a de-fragmented frame, use `newframe = frame.copy()`\n",
      "  reach_scores[level[0]] = None\n",
      "/var/folders/8l/dkxhdycd15d4pt_h700hp40h0000gq/T/ipykernel_68406/2671073473.py:11: PerformanceWarning: DataFrame is highly fragmented.  This is usually the result of calling `frame.insert` many times, which has poor performance.  Consider joining all columns at once using pd.concat(axis=1) instead. To get a de-fragmented frame, use `newframe = frame.copy()`\n",
      "  reach_scores[level[0]] = None\n",
      "/var/folders/8l/dkxhdycd15d4pt_h700hp40h0000gq/T/ipykernel_68406/2671073473.py:11: PerformanceWarning: DataFrame is highly fragmented.  This is usually the result of calling `frame.insert` many times, which has poor performance.  Consider joining all columns at once using pd.concat(axis=1) instead. To get a de-fragmented frame, use `newframe = frame.copy()`\n",
      "  reach_scores[level[0]] = None\n",
      "/var/folders/8l/dkxhdycd15d4pt_h700hp40h0000gq/T/ipykernel_68406/2671073473.py:11: PerformanceWarning: DataFrame is highly fragmented.  This is usually the result of calling `frame.insert` many times, which has poor performance.  Consider joining all columns at once using pd.concat(axis=1) instead. To get a de-fragmented frame, use `newframe = frame.copy()`\n",
      "  reach_scores[level[0]] = None\n"
     ]
    }
   ],
   "source": [
    "ep_levels = [  \n",
    "        ['L1_L2_ivd_ep','ep_defect_l1_inf_type','ep_defect_l2_sup_type', 'ep_defect_l1_inf_size', 'ep_defect_l2_sup_size', 'ep_defect_l1_inf_depth', 'ep_defect_l2_sup_depth'],\n",
    "        ['L2_L3_ivd_ep','ep_defect_l2_inf_type','ep_defect_l3_sup_type', 'ep_defect_l2_inf_size', 'ep_defect_l3_sup_size', 'ep_defect_l2_inf_depth', 'ep_defect_l3_sup_depth'],\n",
    "        ['L3_L4_ivd_ep','ep_defect_l3_inf_type','ep_defect_l4_sup_type', 'ep_defect_l3_inf_size', 'ep_defect_l4_sup_size', 'ep_defect_l3_inf_depth', 'ep_defect_l4_sup_depth'],\n",
    "        ['L4_L5_ivd_ep','ep_defect_l4_inf_type','ep_defect_l5_sup_type', 'ep_defect_l4_inf_size', 'ep_defect_l5_sup_size', 'ep_defect_l4_inf_depth', 'ep_defect_l5_sup_depth'], \n",
    "        ['L5_S1_ivd_ep','ep_defect_l5_inf_type','ep_defect_s1_sup_type', 'ep_defect_l5_inf_size', 'ep_defect_s1_sup_size', 'ep_defect_l5_inf_depth', 'ep_defect_s1_sup_depth'], \n",
    "        ]\n",
    "\n",
    "for level in ep_levels:\n",
    "    # create a new empty column titled level[0]\n",
    "    reach_scores[level[0]] = None\n",
    "    \n",
    "    for row in reach_scores.iterrows():\n",
    "        if pd.isna(row[1][level[1]]) or pd.isna(row[1][level[2]]):\n",
    "            ep = None\n",
    "            continue\n",
    "        ep = str(int(row[1][level[1]])) + str(int(row[1][level[2]]))\n",
    "\n",
    "        # assign the new string to the new column\n",
    "        reach_scores.at[row[0], level[0]] = str(ep)\n",
    "\n",
    "    for row in reach_scores.iterrows():\n",
    "        if reach_scores.at[row[0], level[0]] == '01':\n",
    "            reach_scores.at[row[0], level[0]] = '10'    \n",
    "        elif reach_scores.at[row[0], level[0]] == '02':\n",
    "            reach_scores.at[row[0], level[0]] = '20'\n",
    "        elif reach_scores.at[row[0], level[0]] == '03':\n",
    "            reach_scores.at[row[0], level[0]] = '30'\n",
    "        elif reach_scores.at[row[0], level[0]] == '12':\n",
    "            reach_scores.at[row[0], level[0]] = '21'\n",
    "        elif reach_scores.at[row[0], level[0]] == '13':\n",
    "            reach_scores.at[row[0], level[0]] = '31'\n",
    "        elif reach_scores.at[row[0], level[0]] == '23':\n",
    "            reach_scores.at[row[0], level[0]] = '32'\n",
    "        elif reach_scores.at[row[0], level[0]] == '04':\n",
    "            reach_scores.at[row[0], level[0]] = '40'\n",
    "        elif reach_scores.at[row[0], level[0]] == '14':\n",
    "            reach_scores.at[row[0], level[0]] = '41'\n",
    "        elif reach_scores.at[row[0], level[0]] == '24':\n",
    "            reach_scores.at[row[0], level[0]] = '42'\n",
    "        elif reach_scores.at[row[0], level[0]] == '34':\n",
    "            reach_scores.at[row[0], level[0]] = '43'"
   ]
  },
  {
   "cell_type": "code",
   "execution_count": 256,
   "id": "572e8e99",
   "metadata": {},
   "outputs": [],
   "source": [
    "mc = ['L1_L2_ivd_mc', 'L2_L3_ivd_mc', 'L3_L4_ivd_mc', 'L4_L5_ivd_mc', 'L5_S1_ivd_mc']\n",
    "ep = ['L1_L2_ivd_ep', 'L2_L3_ivd_ep', 'L3_L4_ivd_ep', 'L4_L5_ivd_ep', 'L5_S1_ivd_ep']\n",
    "ivdd = ['disc_ddd_12_nl', 'disc_ddd_23_nl', 'disc_ddd_34_nl', 'disc_ddd_45_nl', 'disc_ddd_51_nl']\n",
    "herniation = ['disc_d_herniation_12_nl', 'disc_d_herniation_23_nl', 'disc_d_herniation_34_nl', 'disc_d_herniation_45_nl', 'disc_d_herniation_51_nl']\n",
    "af = ['disc_af_12_nl', 'disc_af_23_nl', 'disc_af_34_nl', 'disc_af_45_nl', 'disc_af_51_nl']\n",
    "facets = ['facet_fj_oa_12_nl', 'facet_fj_oa_23_nl', 'facet_fj_oa_34_nl', 'facet_fj_oa_45_nl', 'facet_fj_oa_51_nl']\n",
    "sij = 'stenosis_si_joints'\n",
    "lstv = 'stenosis_lumbo_sacral_seg_abnormality'\n",
    "ccs = ['stenosis_ccs_12_nl', 'stenosis_ccs_23_nl', 'stenosis_ccs_34_nl', 'stenosis_ccs_45_nl', 'stenosis_ccs_51_nl']\n",
    "lrs = ['stenosis_lrs_12_nl', 'stenosis_lrs_23_nl', 'stenosis_lrs_34_nl', 'stenosis_lrs_45_nl', 'stenosis_lrs_51_nl']\n",
    "ivfs = ['stenosis_fs_12_nl', 'stenosis_fs_23_nl', 'stenosis_fs_34_nl', 'stenosis_fs_45_nl', 'stenosis_fs_51_nl']"
   ]
  },
  {
   "cell_type": "code",
   "execution_count": 257,
   "id": "85f89570",
   "metadata": {},
   "outputs": [],
   "source": [
    "for_factorisation = [       \n",
    "       'L1_L2_ivd_mc', 'L2_L3_ivd_mc', 'L3_L4_ivd_mc', 'L4_L5_ivd_mc', 'L5_S1_ivd_mc', \n",
    "       'L1_L2_ivd_ep', 'L2_L3_ivd_ep', 'L3_L4_ivd_ep', 'L4_L5_ivd_ep', 'L5_S1_ivd_ep'\n",
    "       ]\n",
    "\n",
    "# convert each column in for factorisation to strings\n",
    "for feature in for_factorisation:\n",
    "    reach_scores[feature] = reach_scores[feature].astype(str)\n",
    "\n",
    "order_mc_str = ['00', '10', '20', '30', '11', '21', '22', '31', '32', '33']\n",
    "order_mc_int = [  0,    1,    1,    1,    2,    2,    2,    2,    2,   2]\n",
    "\n",
    "order_ep_str = ['00', '20', '22', '30', '33', '44', '10', '11', '31', '32', '40', '41', '42', '43']\n",
    "order_ep_int = [0,     0,     0,    0,    0,    0,    1,    2,   1,    0,    0,    1,    0,    0]\n",
    "\n",
    "# convert the values in the mc and ep columns to integers based on the above orderings:\n",
    "for m in mc:\n",
    "    reach_scores[m] = reach_scores[m].replace(order_mc_str, order_mc_int)\n",
    "    \n",
    "for e in ep:\n",
    "    reach_scores[e] = reach_scores[e].replace(order_ep_str, order_ep_int)\n",
    "\n",
    "reach_scores = reach_scores.replace({None: 0.5, 'None': 0.5}).fillna(0.5)\n",
    "\n",
    "# semmed scores:\n",
    "reach_scores['ivdd_total'] = reach_scores[ivdd].sum(axis=1)\n",
    "reach_scores['ivdd_total'] = reach_scores['ivdd_total'].astype(int)\n",
    "reach_scores['fjoa_total'] = reach_scores[facets].sum(axis=1)\n",
    "reach_scores['fjoa_total'] = reach_scores['fjoa_total'].astype(int)"
   ]
  },
  {
   "cell_type": "code",
   "execution_count": null,
   "id": "de04e29c",
   "metadata": {},
   "outputs": [
    {
     "name": "stdout",
     "output_type": "stream",
     "text": [
      "44\n"
     ]
    }
   ],
   "source": [
    "# Choose how the \"normal\" class is defined:\n",
    "healthies = reach_scores[\n",
    "                        (reach_scores[['ivdd_total']] <= 12).all(axis=1) \n",
    "                        & (reach_scores[['fjoa_total']] <= 2).all(axis=1)\n",
    "                        & (reach_scores[ivdd] <= 3).all(axis=1) \n",
    "                        & (reach_scores[mc] <= 1).all(axis=1) \n",
    "                        & (reach_scores[ep] < 1).all(axis=1)\n",
    "                        & (reach_scores[facets] <= 1).all(axis=1)\n",
    "                        & (reach_scores[sij] == 0)\n",
    "                        ]\n",
    "\n",
    "reach_scores['group'] = 1\n",
    "reach_scores.loc[reach_scores['mri_id'].isin(healthies['mri_id']), 'group'] = 0\n",
    "\n",
    "healthies = healthies[healthies['visit'] == 'baseline']\n",
    "print(len(healthies))"
   ]
  },
  {
   "cell_type": "code",
   "execution_count": null,
   "id": "fe016614",
   "metadata": {},
   "outputs": [
    {
     "name": "stdout",
     "output_type": "stream",
     "text": [
      "Scores for L1_L2_ivd_mc: [0. 1. 2.]\n",
      "Scores for L2_L3_ivd_mc: [0. 1. 2.]\n",
      "Scores for L3_L4_ivd_mc: [0. 1. 2.]\n",
      "Scores for L4_L5_ivd_mc: [0. 1. 2.]\n",
      "Scores for L5_S1_ivd_mc: [0. 1. 2.]\n",
      "Scores for L1_L2_ivd_ep: [0. 1. 2.]\n",
      "Scores for L2_L3_ivd_ep: [0. 1. 2.]\n",
      "Scores for L3_L4_ivd_ep: [0. 1. 2.]\n",
      "Scores for L4_L5_ivd_ep: [0. 1. 2.]\n",
      "Scores for L5_S1_ivd_ep: [0. 1. 2.]\n",
      "Scores for disc_ddd_12_nl: [0. 1. 2. 3. 4. 5.]\n",
      "Scores for disc_ddd_23_nl: [0 1 2 3 4 5]\n",
      "Scores for disc_ddd_34_nl: [0. 1. 2. 3. 4. 5.]\n",
      "Scores for disc_ddd_45_nl: [0. 1. 2. 3. 4. 5.]\n",
      "Scores for disc_ddd_51_nl: [0. 1. 2. 3. 4. 5.]\n",
      "Scores for facet_fj_oa_12_nl: [0. 1. 2. 3.]\n",
      "Scores for facet_fj_oa_23_nl: [0 1 2 3]\n",
      "Scores for facet_fj_oa_34_nl: [0. 1. 2. 3.]\n",
      "Scores for facet_fj_oa_45_nl: [0. 1. 2. 3.]\n",
      "Scores for facet_fj_oa_51_nl: [0. 1. 2. 3.]\n",
      "Scores for stenosis_si_joints: [0 1 2]\n"
     ]
    }
   ],
   "source": [
    "group_0_prob = reach_scores.copy()\n",
    "group_1_prob = reach_scores.copy()\n",
    "\n",
    "for feature in variable_selection:\n",
    "    test_df = reach_scores[['mri_id', 'participant_id', 'group', 'visit', feature]]\n",
    "    test_df_baseline = test_df[test_df['visit'] == 'baseline']\n",
    "    test_df = test_df[test_df[feature] != 0.5]\n",
    "    \n",
    "    scores = np.sort(test_df[feature].unique())\n",
    "    print(f\"Scores for {feature}:\", scores)\n",
    "\n",
    "    bandwidth = 0.5\n",
    "\n",
    "    # Fit KDEs for each group (using only the baseline data)\n",
    "    kde_g0 = KernelDensity(kernel='gaussian', bandwidth=bandwidth).fit(\n",
    "        test_df_baseline[test_df_baseline['group'] == 0][feature].values.reshape(-1, 1))\n",
    "    kde_g1 = KernelDensity(kernel='gaussian', bandwidth=bandwidth).fit(\n",
    "        test_df_baseline[test_df_baseline['group'] == 1][feature].values.reshape(-1, 1))\n",
    "    \n",
    "    # Evaluate densities at all feature scores\n",
    "    feature_vals = reach_scores[feature].values.reshape(-1, 1)\n",
    "    density_g0 = np.exp(kde_g0.score_samples(feature_vals))\n",
    "    density_g1 = np.exp(kde_g1.score_samples(feature_vals))\n",
    "    \n",
    "    prior_g0 = 0.5\n",
    "    prior_g1 = 0.5\n",
    "\n",
    "    # Compute unnormalized posteriors\n",
    "    post_g0 = density_g0 * prior_g0\n",
    "    post_g1 = density_g1 * prior_g1\n",
    "\n",
    "    # Avoid division by zero\n",
    "    total_densities = post_g0 + post_g1\n",
    "    total_densities = np.where(total_densities == 0, 1e-10, total_densities)\n",
    "\n",
    "    # Normalize to get probabilities\n",
    "    prob_g0 = post_g0 / total_densities\n",
    "    prob_g1 = post_g1 / total_densities\n",
    "    \n",
    "    # Assign probabilities to reach_scores DataFrame columns for this feature\n",
    "    group_0_prob[feature] = prob_g0\n",
    "    group_1_prob[feature] = prob_g1\n"
   ]
  },
  {
   "cell_type": "code",
   "execution_count": null,
   "id": "4ad5d5d4",
   "metadata": {},
   "outputs": [],
   "source": [
    "group_0_prob.reset_index(drop=True, inplace=True)\n",
    "group_1_prob.reset_index(drop=True, inplace=True)\n",
    "\n",
    "df_prob_0 = group_0_prob.copy()\n",
    "df_prob_1 = group_1_prob.copy()\n",
    "\n",
    "if include_controls == False:\n",
    "    df_prob_0 = df_prob_0[df_prob_0['group'] == 1]\n",
    "    df_prob_1 = df_prob_1[df_prob_1['group'] == 1]\n",
    "\n",
    "df_prob_0 = df_prob_0[df_prob_0['visit'] == 'baseline']\n",
    "df_prob_1 = df_prob_1[df_prob_1['visit'] == 'baseline']\n",
    "\n",
    "prob_0 = df_prob_0[variable_selection]\n",
    "prob_1 = df_prob_1[variable_selection]"
   ]
  },
  {
   "cell_type": "code",
   "execution_count": 262,
   "id": "d83ca273",
   "metadata": {},
   "outputs": [],
   "source": [
    "N_startpoints = 25\n",
    "N_S_max = 2\n",
    "N_iterations_MCMC = int(1e6)\n",
    "\n",
    "\n",
    "sustain_input = pySuStaIn.MixtureSustain(   prob_1,\n",
    "                                            prob_0,\n",
    "                                            variable_selection,\n",
    "                                            N_startpoints,\n",
    "                                            N_S_max,\n",
    "                                            N_iterations_MCMC,\n",
    "                                            output_folder,\n",
    "                                            dataset_name,\n",
    "                                            True\n",
    "                                            )"
   ]
  },
  {
   "cell_type": "code",
   "execution_count": 263,
   "id": "a38a5f50",
   "metadata": {},
   "outputs": [
    {
     "name": "stdout",
     "output_type": "stream",
     "text": [
      "Found pickle file: ../outputs/final_models_june/pickle_files/strict_ivd_fjoa_mc_ep_scc_sij_controls_included_probs_corrected_subtype0.pickle. Using pickled variables for 0 subtype.\n",
      "Found pickle file: ../outputs/final_models_june/pickle_files/strict_ivd_fjoa_mc_ep_scc_sij_controls_included_probs_corrected_subtype1.pickle. Using pickled variables for 1 subtype.\n"
     ]
    }
   ],
   "source": [
    "samples_sequence,   \\\n",
    "samples_f,          \\\n",
    "ml_subtype,         \\\n",
    "prob_ml_subtype,    \\\n",
    "ml_stage,           \\\n",
    "prob_ml_stage,      \\\n",
    "prob_subtype_stage  = sustain_input.run_sustain_algorithm()"
   ]
  },
  {
   "cell_type": "code",
   "execution_count": null,
   "id": "6fc3934b",
   "metadata": {},
   "outputs": [
    {
     "data": {
      "image/png": "[encoded data removed]",
      "text/plain": [
       "<Figure size 1100x1100 with 2 Axes>"
      ]
     },
     "metadata": {},
     "output_type": "display_data"
    }
   ],
   "source": [
    "s = 1\n",
    "M = df_prob_0.shape[0]\n",
    "pickle_filename_s           = output_folder + '/pickle_files/' + dataset_name + '_subtype' + str(s) + '.pickle'\n",
    "pickle_filepath             = Path(pickle_filename_s)\n",
    "pickle_file                 = open(pickle_filename_s, 'rb')\n",
    "loaded_variables            = pickle.load(pickle_file)\n",
    "samples_sequence            = loaded_variables[\"samples_sequence\"]\n",
    "samples_f                   = loaded_variables[\"samples_f\"]\n",
    "\n",
    "##### to control ordering of the variables\n",
    "\n",
    "ml_sequence_EM_full                 = loaded_variables[\"ml_sequence_EM\"]\n",
    "ml_f_EM_full                        = loaded_variables[\"ml_f_EM\"]\n",
    "pickle_file.close()\n",
    "\n",
    "# # order of subtypes displayed in positional variance diagrams plotted by _plot_sustain_model\n",
    "# plot_subtype_order                  = np.argsort(ml_f_EM_full)[::-1]\n",
    "# # order of biomarkers in each subtypes' positional variance diagram\n",
    "# plot_biomarker_order                = ml_sequence_EM_full[plot_subtype_order[1], :].astype(int)\n",
    "\n",
    "\n",
    "biomarker_labels = [\n",
    "    'L1-L2 MC', 'L2-L3 MC', 'L3_L4 MC', 'L4_L5 MC','L5-S1 MC',\n",
    "       'L1-L2 EP erosion', 'L2-L3 EP erosion','L3-L4 EP erosion', 'L4-L5 EP erosion', 'L5-S1 EP erosion',\n",
    "       'L1-L2 disc degeneration', 'L2-L3 disc degeneration', 'L3-L4 disc degeneration', 'L4-L5 disc degeneration','L5-S1 disc degeneration',\n",
    "       'L1-L2 facet OA', 'L2-L3 facet OA', 'L3-L4 facet OA', 'L4-L5 facet OA','L5-S1 facet OA',\n",
    "       'SI joint changes', \n",
    "       ]\n",
    "\n",
    "# make a custom colormap using blues where 0 is white\n",
    "cmap = sns.color_palette(\"Greys\", as_cmap=True)\n",
    "\n",
    "# set the low values to white\n",
    "cmap.set_under('white')\n",
    "\n",
    "fig, ax = pySuStaIn.MixtureSustain._plot_sustain_model(sustain_input,\n",
    "                                             samples_sequence,\n",
    "                                             samples_f,\n",
    "                                             M,\n",
    "                                             biomarker_labels = biomarker_labels, \n",
    "                                             figsize = (11,11), \n",
    "                                             cmap = cmap,\n",
    "                                             cval = False,\n",
    "                                             # biomarker_order=plot_biomarker_order,\n",
    "                                            #  subtype_titles = ['Disc-first subtype (62%, n=253)', 'Facet-first subtype (38%, n=157)'],\n",
    "                                             # save_path = f'/Users/tmcsween21/Documents/sdtm/tmcs/outputs/{dataset_name}_ordered_by_event_subtype{s}',\n",
    "                                             # save_path = f'/Users/tmcsween21/Documents/sdtm/tmcs/outputs/{dataset_name}_ordered_by_event_position_subtype2',\n",
    "                                             save_kwargs = {'format': \"pdf\"}\n",
    "                                             )\n",
    "\n",
    "plt.grid(False)"
   ]
  },
  {
   "cell_type": "code",
   "execution_count": null,
   "id": "fe6a6646",
   "metadata": {},
   "outputs": [],
   "source": [
    "s = 1\n",
    "pickle_filename_s           = output_folder + '/pickle_files/' + dataset_name + '_subtype' + str(s) + '.pickle'\n",
    "pickle_filepath             = Path(pickle_filename_s)\n",
    "pickle_file                 = open(pickle_filename_s, 'rb')\n",
    "loaded_variables            = pickle.load(pickle_file)\n",
    "ml_subtype                  = loaded_variables[\"ml_subtype\"]\n",
    "prob_ml_subtype             = loaded_variables[\"prob_ml_subtype\"]\n",
    "ml_stage                    = loaded_variables[\"ml_stage\"]\n",
    "prob_ml_stage               = loaded_variables[\"prob_ml_stage\"]\n",
    "prob_subtype                = loaded_variables[\"prob_subtype\"]\n",
    "prob_stage                  = loaded_variables[\"prob_stage\"]\n",
    "prob_subtype_stage          = loaded_variables[\"prob_subtype_stage\"]\n",
    "pickle_file.close()  \n",
    "ml_subtype.shape   \n",
    "\n",
    "results_bl = df_prob_0[['participant_id', 'group', 'visit']].copy()\n",
    "results_bl['subtype'] = ml_subtype\n",
    "results_bl['subtype_probability'] = prob_ml_subtype\n",
    "results_bl['stage'] = ml_stage\n",
    "results_bl['stage_probability'] = prob_ml_stage\n",
    "\n",
    "results_bl.to_csv(f'/tmcs/outputs/{dataset_name}_subtype_stage_results.csv', index=False)"
   ]
  },
  {
   "cell_type": "markdown",
   "id": "ab8643bb",
   "metadata": {},
   "source": [
    "# Cross validation"
   ]
  },
  {
   "cell_type": "code",
   "execution_count": 926,
   "id": "83495407",
   "metadata": {},
   "outputs": [
    {
     "name": "stdout",
     "output_type": "stream",
     "text": [
      "[  1   4   6   8  11  33  38  41  45  46  51  53  60  62  63  65  75  79\n",
      "  80  81  88 101 102 104 113 119 123 137 141 146 147 154 158 162 173 176\n",
      " 181 182 183 186 207 208 222 226 240 249 251 255 258 259 260 269 276 281\n",
      " 286 287 300 301 302 303 306 313 317 318 319 321 341 346 348 349 352 355\n",
      " 359 369 370 376 377 380 392 399 400 403]\n"
     ]
    }
   ],
   "source": [
    "# index_control is the index of the ivdd_label column where the value is 0\n",
    "index_control = df_prob_0[df_prob_0['group'] == 0].index\n",
    "\n",
    "# label cases and controls to perform stratified cross-validation\n",
    "labels                  = df_prob_0['group'].values\n",
    "\n",
    "# choose the number of folds - here i've used three for speed but i recommend 10 typically\n",
    "N_folds                  = 5\n",
    "\n",
    "# generate stratified cross-validation training and test set splits\n",
    "cv                       = sklearn.model_selection.StratifiedKFold(n_splits=N_folds, \n",
    "                                                                   shuffle=True,\n",
    "                                                                   random_state=42)\n",
    "cv_it                    = list(cv.split(df_prob_0, labels))\n",
    "\n",
    "test_idxs                = []\n",
    "for train, test in cv_it:\n",
    "    # print(\"TRAIN:\", train, \"TEST:\", test)\n",
    "    test_idxs.append(test)\n",
    "# print(test_idxs)\n",
    "test_idxs = [np.array(test_idx) for test_idx in test_idxs]\n",
    "print(test_idxs[0])"
   ]
  },
  {
   "cell_type": "code",
   "execution_count": 927,
   "id": "f9ba9375",
   "metadata": {},
   "outputs": [
    {
     "data": {
      "application/vnd.jupyter.widget-view+json": {
       "model_id": "adce828b609e402ca5574e9dd9a0748f",
       "version_major": 2,
       "version_minor": 0
      },
      "text/plain": [
       "Folds:   0%|          | 0/5 [00:00<?, ?it/s]"
      ]
     },
     "metadata": {},
     "output_type": "display_data"
    },
    {
     "name": "stdout",
     "output_type": "stream",
     "text": [
      "Finding ML solution to 1 cluster problem\n",
      "Overall ML likelihood is -6593.746624807907\n"
     ]
    },
    {
     "data": {
      "application/vnd.jupyter.widget-view+json": {
       "model_id": "3746e95e292e43638f671e46b7ae9244",
       "version_major": 2,
       "version_minor": 0
      },
      "text/plain": [
       "MCMC Iteration:   0%|          | 0/10000 [00:00<?, ?it/s]"
      ]
     },
     "metadata": {},
     "output_type": "display_data"
    },
    {
     "data": {
      "application/vnd.jupyter.widget-view+json": {
       "model_id": "3b321c79e3d84cb58931b7e74e1a9805",
       "version_major": 2,
       "version_minor": 0
      },
      "text/plain": [
       "MCMC Iteration:   0%|          | 0/10000 [00:00<?, ?it/s]"
      ]
     },
     "metadata": {},
     "output_type": "display_data"
    },
    {
     "data": {
      "application/vnd.jupyter.widget-view+json": {
       "model_id": "b5ca1b703e044352a81c38bb40802bad",
       "version_major": 2,
       "version_minor": 0
      },
      "text/plain": [
       "MCMC Iteration:   0%|          | 0/10000 [00:00<?, ?it/s]"
      ]
     },
     "metadata": {},
     "output_type": "display_data"
    },
    {
     "data": {
      "application/vnd.jupyter.widget-view+json": {
       "model_id": "bdcbf57d773b42129df7c19d53a1346f",
       "version_major": 2,
       "version_minor": 0
      },
      "text/plain": [
       "MCMC Iteration:   0%|          | 0/10000 [00:00<?, ?it/s]"
      ]
     },
     "metadata": {},
     "output_type": "display_data"
    },
    {
     "name": "stdout",
     "output_type": "stream",
     "text": [
      "Splitting cluster 1 of 1\n",
      " + Resolving 2 cluster problem\n",
      " + Finding ML solution from hierarchical initialisation\n",
      "- ML likelihood is [-6533.15819178]\n",
      "Overall ML likelihood is [-6533.15819178]\n"
     ]
    },
    {
     "data": {
      "application/vnd.jupyter.widget-view+json": {
       "model_id": "b535f2b11e13489785962ac9451ac06d",
       "version_major": 2,
       "version_minor": 0
      },
      "text/plain": [
       "MCMC Iteration:   0%|          | 0/10000 [00:00<?, ?it/s]"
      ]
     },
     "metadata": {},
     "output_type": "display_data"
    },
    {
     "data": {
      "application/vnd.jupyter.widget-view+json": {
       "model_id": "f2f7e029d8cd4fbca84b1cbfcbaa2afb",
       "version_major": 2,
       "version_minor": 0
      },
      "text/plain": [
       "MCMC Iteration:   0%|          | 0/10000 [00:00<?, ?it/s]"
      ]
     },
     "metadata": {},
     "output_type": "display_data"
    },
    {
     "data": {
      "application/vnd.jupyter.widget-view+json": {
       "model_id": "800f06287c0d47b6bd2bb280e5c0f8ff",
       "version_major": 2,
       "version_minor": 0
      },
      "text/plain": [
       "MCMC Iteration:   0%|          | 0/10000 [00:00<?, ?it/s]"
      ]
     },
     "metadata": {},
     "output_type": "display_data"
    },
    {
     "data": {
      "application/vnd.jupyter.widget-view+json": {
       "model_id": "df5f9292647c430ab48d291507de9e04",
       "version_major": 2,
       "version_minor": 0
      },
      "text/plain": [
       "MCMC Iteration:   0%|          | 0/10000 [00:00<?, ?it/s]"
      ]
     },
     "metadata": {},
     "output_type": "display_data"
    },
    {
     "name": "stdout",
     "output_type": "stream",
     "text": [
      "Finding ML solution to 1 cluster problem\n",
      "Overall ML likelihood is -6577.65471180301\n"
     ]
    },
    {
     "data": {
      "application/vnd.jupyter.widget-view+json": {
       "model_id": "399a8308329f42d787f1b5b4545a70d1",
       "version_major": 2,
       "version_minor": 0
      },
      "text/plain": [
       "MCMC Iteration:   0%|          | 0/10000 [00:00<?, ?it/s]"
      ]
     },
     "metadata": {},
     "output_type": "display_data"
    },
    {
     "data": {
      "application/vnd.jupyter.widget-view+json": {
       "model_id": "fbbec268a1394d1ebf51fe6758deadab",
       "version_major": 2,
       "version_minor": 0
      },
      "text/plain": [
       "MCMC Iteration:   0%|          | 0/10000 [00:00<?, ?it/s]"
      ]
     },
     "metadata": {},
     "output_type": "display_data"
    },
    {
     "data": {
      "application/vnd.jupyter.widget-view+json": {
       "model_id": "fdcb8029511148c28ae5b9638685c2c1",
       "version_major": 2,
       "version_minor": 0
      },
      "text/plain": [
       "MCMC Iteration:   0%|          | 0/10000 [00:00<?, ?it/s]"
      ]
     },
     "metadata": {},
     "output_type": "display_data"
    },
    {
     "data": {
      "application/vnd.jupyter.widget-view+json": {
       "model_id": "4211fd8c0ccb4923a76110aff47e1b71",
       "version_major": 2,
       "version_minor": 0
      },
      "text/plain": [
       "MCMC Iteration:   0%|          | 0/10000 [00:00<?, ?it/s]"
      ]
     },
     "metadata": {},
     "output_type": "display_data"
    },
    {
     "name": "stdout",
     "output_type": "stream",
     "text": [
      "Splitting cluster 1 of 1\n",
      " + Resolving 2 cluster problem\n",
      " + Finding ML solution from hierarchical initialisation\n",
      "- ML likelihood is [-6507.78702648]\n",
      "Overall ML likelihood is [-6507.78702648]\n"
     ]
    },
    {
     "data": {
      "application/vnd.jupyter.widget-view+json": {
       "model_id": "79199b13252e40cb8f54927f1d7105aa",
       "version_major": 2,
       "version_minor": 0
      },
      "text/plain": [
       "MCMC Iteration:   0%|          | 0/10000 [00:00<?, ?it/s]"
      ]
     },
     "metadata": {},
     "output_type": "display_data"
    },
    {
     "data": {
      "application/vnd.jupyter.widget-view+json": {
       "model_id": "99cf18aed003446fb4c1d077ccdc40fa",
       "version_major": 2,
       "version_minor": 0
      },
      "text/plain": [
       "MCMC Iteration:   0%|          | 0/10000 [00:00<?, ?it/s]"
      ]
     },
     "metadata": {},
     "output_type": "display_data"
    },
    {
     "data": {
      "application/vnd.jupyter.widget-view+json": {
       "model_id": "cd22e898fea24f3da5d7815c999e47cd",
       "version_major": 2,
       "version_minor": 0
      },
      "text/plain": [
       "MCMC Iteration:   0%|          | 0/10000 [00:00<?, ?it/s]"
      ]
     },
     "metadata": {},
     "output_type": "display_data"
    },
    {
     "data": {
      "application/vnd.jupyter.widget-view+json": {
       "model_id": "f04779d5c6214b7d9db9f195356418e4",
       "version_major": 2,
       "version_minor": 0
      },
      "text/plain": [
       "MCMC Iteration:   0%|          | 0/10000 [00:00<?, ?it/s]"
      ]
     },
     "metadata": {},
     "output_type": "display_data"
    },
    {
     "name": "stdout",
     "output_type": "stream",
     "text": [
      "Finding ML solution to 1 cluster problem\n",
      "Overall ML likelihood is -6580.508967076956\n"
     ]
    },
    {
     "data": {
      "application/vnd.jupyter.widget-view+json": {
       "model_id": "b213034d35bf414c86acc901f09c929c",
       "version_major": 2,
       "version_minor": 0
      },
      "text/plain": [
       "MCMC Iteration:   0%|          | 0/10000 [00:00<?, ?it/s]"
      ]
     },
     "metadata": {},
     "output_type": "display_data"
    },
    {
     "data": {
      "application/vnd.jupyter.widget-view+json": {
       "model_id": "fb281a0743d34fc684f0ca70d11eea3c",
       "version_major": 2,
       "version_minor": 0
      },
      "text/plain": [
       "MCMC Iteration:   0%|          | 0/10000 [00:00<?, ?it/s]"
      ]
     },
     "metadata": {},
     "output_type": "display_data"
    },
    {
     "data": {
      "application/vnd.jupyter.widget-view+json": {
       "model_id": "fdad8580828a4fba8aa6cb0a65c28847",
       "version_major": 2,
       "version_minor": 0
      },
      "text/plain": [
       "MCMC Iteration:   0%|          | 0/10000 [00:00<?, ?it/s]"
      ]
     },
     "metadata": {},
     "output_type": "display_data"
    },
    {
     "data": {
      "application/vnd.jupyter.widget-view+json": {
       "model_id": "346a7b3efd634ac1a6f31c15d1a6102b",
       "version_major": 2,
       "version_minor": 0
      },
      "text/plain": [
       "MCMC Iteration:   0%|          | 0/10000 [00:00<?, ?it/s]"
      ]
     },
     "metadata": {},
     "output_type": "display_data"
    },
    {
     "name": "stdout",
     "output_type": "stream",
     "text": [
      "Splitting cluster 1 of 1\n",
      " + Resolving 2 cluster problem\n",
      " + Finding ML solution from hierarchical initialisation\n",
      "- ML likelihood is [-6511.39996691]\n",
      "Overall ML likelihood is [-6511.39996691]\n"
     ]
    },
    {
     "data": {
      "application/vnd.jupyter.widget-view+json": {
       "model_id": "a10d6021c63146078b1d44ab8f52c49d",
       "version_major": 2,
       "version_minor": 0
      },
      "text/plain": [
       "MCMC Iteration:   0%|          | 0/10000 [00:00<?, ?it/s]"
      ]
     },
     "metadata": {},
     "output_type": "display_data"
    },
    {
     "data": {
      "application/vnd.jupyter.widget-view+json": {
       "model_id": "81cbc0440ca14488acf66e3c8372cc7a",
       "version_major": 2,
       "version_minor": 0
      },
      "text/plain": [
       "MCMC Iteration:   0%|          | 0/10000 [00:00<?, ?it/s]"
      ]
     },
     "metadata": {},
     "output_type": "display_data"
    },
    {
     "data": {
      "application/vnd.jupyter.widget-view+json": {
       "model_id": "fd449c8189eb420f9b32f5521415fbb8",
       "version_major": 2,
       "version_minor": 0
      },
      "text/plain": [
       "MCMC Iteration:   0%|          | 0/10000 [00:00<?, ?it/s]"
      ]
     },
     "metadata": {},
     "output_type": "display_data"
    },
    {
     "data": {
      "application/vnd.jupyter.widget-view+json": {
       "model_id": "54ffe12c9c824d43bff57d2c71332272",
       "version_major": 2,
       "version_minor": 0
      },
      "text/plain": [
       "MCMC Iteration:   0%|          | 0/10000 [00:00<?, ?it/s]"
      ]
     },
     "metadata": {},
     "output_type": "display_data"
    },
    {
     "name": "stdout",
     "output_type": "stream",
     "text": [
      "Finding ML solution to 1 cluster problem\n",
      "Overall ML likelihood is -6524.59400666527\n"
     ]
    },
    {
     "data": {
      "application/vnd.jupyter.widget-view+json": {
       "model_id": "c7368ca39e3f4ffa978afa2d74faf7de",
       "version_major": 2,
       "version_minor": 0
      },
      "text/plain": [
       "MCMC Iteration:   0%|          | 0/10000 [00:00<?, ?it/s]"
      ]
     },
     "metadata": {},
     "output_type": "display_data"
    },
    {
     "data": {
      "application/vnd.jupyter.widget-view+json": {
       "model_id": "99091bc5a92c47d792b4908d597b14e4",
       "version_major": 2,
       "version_minor": 0
      },
      "text/plain": [
       "MCMC Iteration:   0%|          | 0/10000 [00:00<?, ?it/s]"
      ]
     },
     "metadata": {},
     "output_type": "display_data"
    },
    {
     "data": {
      "application/vnd.jupyter.widget-view+json": {
       "model_id": "55be50331c9a4260b1927ff2f128888e",
       "version_major": 2,
       "version_minor": 0
      },
      "text/plain": [
       "MCMC Iteration:   0%|          | 0/10000 [00:00<?, ?it/s]"
      ]
     },
     "metadata": {},
     "output_type": "display_data"
    },
    {
     "data": {
      "application/vnd.jupyter.widget-view+json": {
       "model_id": "99a1e21108b6471d930353efc1d7d761",
       "version_major": 2,
       "version_minor": 0
      },
      "text/plain": [
       "MCMC Iteration:   0%|          | 0/10000 [00:00<?, ?it/s]"
      ]
     },
     "metadata": {},
     "output_type": "display_data"
    },
    {
     "name": "stdout",
     "output_type": "stream",
     "text": [
      "Splitting cluster 1 of 1\n",
      " + Resolving 2 cluster problem\n",
      " + Finding ML solution from hierarchical initialisation\n",
      "- ML likelihood is [-6444.45594187]\n",
      "Overall ML likelihood is [-6444.45594187]\n"
     ]
    },
    {
     "data": {
      "application/vnd.jupyter.widget-view+json": {
       "model_id": "a766dddd78a046828244c2a8059cd1ed",
       "version_major": 2,
       "version_minor": 0
      },
      "text/plain": [
       "MCMC Iteration:   0%|          | 0/10000 [00:00<?, ?it/s]"
      ]
     },
     "metadata": {},
     "output_type": "display_data"
    },
    {
     "data": {
      "application/vnd.jupyter.widget-view+json": {
       "model_id": "815b711034984952ab545cc25863422d",
       "version_major": 2,
       "version_minor": 0
      },
      "text/plain": [
       "MCMC Iteration:   0%|          | 0/10000 [00:00<?, ?it/s]"
      ]
     },
     "metadata": {},
     "output_type": "display_data"
    },
    {
     "data": {
      "application/vnd.jupyter.widget-view+json": {
       "model_id": "2bbd11dda1734a8394adc59cdef5abfd",
       "version_major": 2,
       "version_minor": 0
      },
      "text/plain": [
       "MCMC Iteration:   0%|          | 0/10000 [00:00<?, ?it/s]"
      ]
     },
     "metadata": {},
     "output_type": "display_data"
    },
    {
     "data": {
      "application/vnd.jupyter.widget-view+json": {
       "model_id": "91d3beb57ca3459d81a4688120b546c0",
       "version_major": 2,
       "version_minor": 0
      },
      "text/plain": [
       "MCMC Iteration:   0%|          | 0/10000 [00:00<?, ?it/s]"
      ]
     },
     "metadata": {},
     "output_type": "display_data"
    },
    {
     "name": "stdout",
     "output_type": "stream",
     "text": [
      "Finding ML solution to 1 cluster problem\n",
      "Overall ML likelihood is -6589.087092861146\n"
     ]
    },
    {
     "data": {
      "application/vnd.jupyter.widget-view+json": {
       "model_id": "3652dd523bdc46ddbe87bdd83b53183f",
       "version_major": 2,
       "version_minor": 0
      },
      "text/plain": [
       "MCMC Iteration:   0%|          | 0/10000 [00:00<?, ?it/s]"
      ]
     },
     "metadata": {},
     "output_type": "display_data"
    },
    {
     "data": {
      "application/vnd.jupyter.widget-view+json": {
       "model_id": "0d02af86acb741f987d30c477ede2a5e",
       "version_major": 2,
       "version_minor": 0
      },
      "text/plain": [
       "MCMC Iteration:   0%|          | 0/10000 [00:00<?, ?it/s]"
      ]
     },
     "metadata": {},
     "output_type": "display_data"
    },
    {
     "data": {
      "application/vnd.jupyter.widget-view+json": {
       "model_id": "0117f21f894c49618dbceafbff19ab18",
       "version_major": 2,
       "version_minor": 0
      },
      "text/plain": [
       "MCMC Iteration:   0%|          | 0/10000 [00:00<?, ?it/s]"
      ]
     },
     "metadata": {},
     "output_type": "display_data"
    },
    {
     "data": {
      "application/vnd.jupyter.widget-view+json": {
       "model_id": "f2248ee1f6cd4442ab037c44525ac29c",
       "version_major": 2,
       "version_minor": 0
      },
      "text/plain": [
       "MCMC Iteration:   0%|          | 0/10000 [00:00<?, ?it/s]"
      ]
     },
     "metadata": {},
     "output_type": "display_data"
    },
    {
     "name": "stdout",
     "output_type": "stream",
     "text": [
      "Splitting cluster 1 of 1\n",
      " + Resolving 2 cluster problem\n",
      " + Finding ML solution from hierarchical initialisation\n",
      "- ML likelihood is [-6526.89877154]\n",
      "Overall ML likelihood is [-6526.89877154]\n"
     ]
    },
    {
     "data": {
      "application/vnd.jupyter.widget-view+json": {
       "model_id": "73573fe0f576455bad484bda117a1bd3",
       "version_major": 2,
       "version_minor": 0
      },
      "text/plain": [
       "MCMC Iteration:   0%|          | 0/10000 [00:00<?, ?it/s]"
      ]
     },
     "metadata": {},
     "output_type": "display_data"
    },
    {
     "data": {
      "application/vnd.jupyter.widget-view+json": {
       "model_id": "ee2b21a05a144215b7372c3d6a7159d6",
       "version_major": 2,
       "version_minor": 0
      },
      "text/plain": [
       "MCMC Iteration:   0%|          | 0/10000 [00:00<?, ?it/s]"
      ]
     },
     "metadata": {},
     "output_type": "display_data"
    },
    {
     "data": {
      "application/vnd.jupyter.widget-view+json": {
       "model_id": "5a06cf8aa9b34d83b284768dd1daea6c",
       "version_major": 2,
       "version_minor": 0
      },
      "text/plain": [
       "MCMC Iteration:   0%|          | 0/10000 [00:00<?, ?it/s]"
      ]
     },
     "metadata": {},
     "output_type": "display_data"
    },
    {
     "data": {
      "application/vnd.jupyter.widget-view+json": {
       "model_id": "a4ed2a2f7a824a16802171e5e286b60c",
       "version_major": 2,
       "version_minor": 0
      },
      "text/plain": [
       "MCMC Iteration:   0%|          | 0/10000 [00:00<?, ?it/s]"
      ]
     },
     "metadata": {},
     "output_type": "display_data"
    },
    {
     "name": "stdout",
     "output_type": "stream",
     "text": [
      "Average test set log-likelihood for each subtype model: [-1646.48195987 -1635.20980996]\n",
      "CVIC for each subtype model: [16453.77244871 16324.18051136]\n"
     ]
    }
   ],
   "source": [
    "# perform cross-validation and output the cross-validation information criterion and\n",
    "# log-likelihood on the test set for each subtypes model and fold combination\n",
    "CVIC, loglike_matrix     = sustain_input.cross_validate_sustain_model(test_idxs)"
   ]
  },
  {
   "cell_type": "code",
   "execution_count": null,
   "id": "55a9ccd0",
   "metadata": {},
   "outputs": [
    {
     "name": "stdout",
     "output_type": "stream",
     "text": [
      "../outputs/final_models_mayday/pickle_files/strict_ivd_fjoa_controls_included_trained_model_subtype1.pickle\n"
     ]
    },
    {
     "name": "stderr",
     "output_type": "stream",
     "text": [
      "/Users/tmcsween21/Documents/sdtm/pySuStaIn/MixtureSustain.py:354: UserWarning: Both labels and an order have been given. The labels will be reordered according to the given order!\n",
      "  warnings.warn(\n"
     ]
    },
    {
     "data": {
      "text/plain": [
       "([<Figure size 1100x1100 with 2 Axes>],\n",
       " array([<Axes: title={'center': 'Subtype 1 cross-validated'}, xlabel='Event Position'>,\n",
       "        <Axes: title={'center': 'Subtype 2 cross-validated'}, xlabel='Event Position'>],\n",
       "       dtype=object))"
      ]
     },
     "execution_count": 936,
     "metadata": {},
     "output_type": "execute_result"
    },
    {
     "data": {
      "image/png": "[encoded data removed]",
      "text/plain": [
       "<Figure size 1100x1100 with 2 Axes>"
      ]
     },
     "metadata": {},
     "output_type": "display_data"
    }
   ],
   "source": [
    "N_subtypes = 2\n",
    "dataset_name = 'strict_ivd_fjoa_controls_included_trained_model'\n",
    "output_folder = '../outputs/final_models_mayday'\n",
    "\n",
    "pickle_dir                          = os.path.join(output_folder, 'pickle_files')\n",
    "\n",
    "# load ML sequence for full model for N_subtypes\n",
    "pickle_filename_s                   = os.path.join(pickle_dir, dataset_name + '_subtype' + str(N_subtypes-1) + '.pickle')        \n",
    "pickle_filepath                     = Path(pickle_filename_s)\n",
    "\n",
    "print(pickle_filepath)\n",
    "\n",
    "pickle_file                         = open(pickle_filename_s, 'rb')\n",
    "\n",
    "\n",
    "loaded_variables_full               = pickle.load(pickle_file)\n",
    "\n",
    "ml_sequence_EM_full                 = loaded_variables_full[\"ml_sequence_EM\"]\n",
    "ml_f_EM_full                        = loaded_variables_full[\"ml_f_EM\"]\n",
    "\n",
    "for i in range(N_folds):\n",
    "\n",
    "    #load the MCMC sequences for this fold's model of N_subtypes\n",
    "    pickle_filename_fold_s          = os.path.join(pickle_dir, dataset_name + '_fold' + str(i) + '_subtype' + str(N_subtypes-1) + '.pickle')        \n",
    "    pickle_filepath                 = Path(pickle_filename_fold_s)\n",
    "\n",
    "    assert pickle_filepath.exists(), \"Failed to find pickle file for fold \" + str(i)\n",
    "\n",
    "    pickle_file                     = open(pickle_filename_fold_s, 'rb')\n",
    "\n",
    "    loaded_variables_i              = pickle.load(pickle_file)\n",
    "\n",
    "    ml_sequence_EM_i                = loaded_variables_i[\"ml_sequence_EM\"]\n",
    "    ml_f_EM_i                       = loaded_variables_i[\"ml_f_EM\"]\n",
    "\n",
    "    samples_sequence_i              = loaded_variables_i[\"samples_sequence\"]\n",
    "    samples_f_i                     = loaded_variables_i[\"samples_f\"]\n",
    "\n",
    "    # mean_likelihood_subj_test       = loaded_variables_i[\"mean_likelihood_subj_test\"]\n",
    "\n",
    "    pickle_file.close()\n",
    "\n",
    "    corr_mat                        = np.zeros((N_subtypes, N_subtypes))\n",
    "    for j in range(N_subtypes):\n",
    "        for k in range(N_subtypes):\n",
    "            corr_mat[j,k]            = stats.kendalltau(ml_sequence_EM_full[j,:], ml_sequence_EM_i[k,:]).correlation\n",
    "    set_full                        = []\n",
    "    set_fold_i                      = []\n",
    "    i_i, i_j                        = np.unravel_index(np.argsort(corr_mat.flatten())[::-1], (N_subtypes, N_subtypes))\n",
    "    for k in range(len(i_i)):\n",
    "        if not i_i[k] in set_full and not i_j[k] in set_fold_i:\n",
    "            set_full.append(i_i[k].astype(int))\n",
    "            set_fold_i.append(i_j[k].astype(int))\n",
    "    index_set_full                  = np.argsort(set_full).astype(int) #np.argsort(set_full)[::-1].astype(int)\n",
    "    iMax_vec                        = [set_fold_i[i] for i in index_set_full]\n",
    "\n",
    "    assert(np.all(np.sort(iMax_vec)==np.arange(N_subtypes)))\n",
    "\n",
    "    if i == 0:\n",
    "        samples_sequence_cval       = samples_sequence_i[iMax_vec,:,:]\n",
    "        samples_f_cval              = samples_f_i[iMax_vec, :]\n",
    "    else:\n",
    "        samples_sequence_cval       = np.concatenate((samples_sequence_cval,    samples_sequence_i[iMax_vec,:,:]),  axis=2)\n",
    "        samples_f_cval              = np.concatenate((samples_f_cval,           samples_f_i[iMax_vec,:]),           axis=1)\n",
    "\n",
    "n_samples                           = 1000\n",
    "\n",
    "plot_subtype_order                  = np.argsort(ml_f_EM_full)[::-1]\n",
    "# order of biomarkers in each subtypes' positional variance diagram\n",
    "plot_biomarker_order                = ml_sequence_EM_full[plot_subtype_order[1], :].astype(int)\n",
    "\n",
    "biomarker_labels = [\n",
    "       'L1-L2 MC', 'L2-L3 MC', 'L3_L4 MC', 'L4_L5 MC','L5-S1 MC',\n",
    "       'L1-L2 EP erosion', 'L2-L3 EP erosion','L3-L4 EP erosion', 'L4-L5 EP erosion', 'L5-S1 EP erosion',\n",
    "       'L1-L2 disc degeneration', 'L2-L3 disc degeneration', 'L3-L4 disc degeneration', 'L4-L5 disc degeneration','L5-S1 disc degeneration',\n",
    "       'L1-L2 facet OA', 'L2-L3 facet OA', 'L3-L4 facet OA', 'L4-L5 facet OA','L5-S1 facet OA',\n",
    "       'SI joint changes'\n",
    "       ]\n",
    "\n",
    "# make a custom colormap using blues where 0 is white\n",
    "cmap = sns.color_palette(\"Greys\", as_cmap=True)\n",
    "\n",
    "# set the low values to white\n",
    "cmap.set_under('white')\n",
    "\n",
    "sustain_input._plot_sustain_model(\n",
    "    samples_sequence=samples_sequence_cval,\n",
    "    samples_f=samples_f_cval,\n",
    "    n_samples=n_samples,\n",
    "    figsize = (11,11), \n",
    "    cmap=cmap,\n",
    "    cval=True,\n",
    "    biomarker_labels=biomarker_labels,\n",
    "    subtype_order=plot_subtype_order,\n",
    "    biomarker_order=plot_biomarker_order,\n",
    "    save_path = f'{output_folder}/{dataset_name}_ordered_by_event_subtype2',\n",
    "    save_kwargs = {'format': \"pdf\"}\n",
    ")"
   ]
  },
  {
   "cell_type": "markdown",
   "id": "79b8fbdf",
   "metadata": {},
   "source": [
    "# Follow-up inferences"
   ]
  },
  {
   "cell_type": "code",
   "execution_count": 265,
   "id": "cb783cc0",
   "metadata": {},
   "outputs": [
    {
     "name": "stdout",
     "output_type": "stream",
     "text": [
      "(61, 206)\n"
     ]
    }
   ],
   "source": [
    "df_prob_0 = group_0_prob.copy()\n",
    "df_prob_1 = group_1_prob.copy()\n",
    "\n",
    "df_prob_0 = df_prob_0[df_prob_0['group'] == 1]\n",
    "df_prob_1 = df_prob_1[df_prob_1['group'] == 1]\n",
    "\n",
    "df_prob_0_fu = df_prob_0[df_prob_0['visit'] == 'follow-up']\n",
    "df_prob_1_fu = df_prob_1[df_prob_1['visit'] == 'follow-up']\n",
    "\n",
    "print(df_prob_0_fu.shape)"
   ]
  },
  {
   "cell_type": "code",
   "execution_count": 266,
   "id": "8b083047",
   "metadata": {},
   "outputs": [],
   "source": [
    "df_prob_0_fu_selection = df_prob_0_fu[variable_selection]\n",
    "df_prob_1_fu_selection = df_prob_1_fu[variable_selection]\n",
    "\n",
    "N_samples                   = 1000\n",
    "ml_subtype,                  \\\n",
    "prob_ml_subtype,             \\\n",
    "ml_stage,                    \\\n",
    "prob_ml_stage,               \\\n",
    "prob_subtype,                \\\n",
    "prob_stage,                  \\\n",
    "prob_subtype_stage          = sustain_input.subtype_and_stage_individuals_newData(df_prob_1_fu_selection,\n",
    "                                                                                df_prob_0_fu_selection, \n",
    "                                                                                samples_sequence,\n",
    "                                                                                samples_f,\n",
    "                                                                                N_samples)\n",
    "\n",
    "results_fu = df_prob_0_fu[['participant_id', 'group', 'visit']].copy()\n",
    "results_fu['subtype'] = ml_subtype\n",
    "results_fu['subtype_probability'] = prob_ml_subtype\n",
    "results_fu['stage'] = ml_stage\n",
    "results_fu['stage_probability'] = prob_ml_stage\n",
    "\n",
    "results = pd.concat([results_bl, results_fu], axis=0)\n",
    "results = results.reset_index(drop=True)\n",
    "results = results_bl.merge(results_fu[['participant_id', 'subtype', 'stage', 'visit']], on='participant_id', how='left')\n",
    "results = results.dropna(subset=['subtype_y'])\n",
    "results['subtype_change'] = abs(results['subtype_x'] - results['subtype_y'])\n"
   ]
  },
  {
   "cell_type": "code",
   "execution_count": null,
   "id": "8ec2e56e",
   "metadata": {},
   "outputs": [
    {
     "data": {
      "image/png": "[encoded data removed]",
      "text/plain": [
       "<Figure size 1000x600 with 1 Axes>"
      ]
     },
     "metadata": {},
     "output_type": "display_data"
    }
   ],
   "source": [
    "\n",
    "# Map subtype labels\n",
    "results['subtype_y'] = results['subtype_y'].map({0: 'Disc-first', 1: 'Facet-first'})\n",
    "\n",
    "# Split data\n",
    "results_changed = results[results['subtype_change'] > 0].copy()\n",
    "results_static = results[results['subtype_change'] == 0].copy()\n",
    "\n",
    "# Apply jitter\n",
    "def add_jitter(values, jitter_amount=0.2):\n",
    "    return values + np.random.uniform(-jitter_amount, jitter_amount, size=values.shape)\n",
    "\n",
    "results_static['x_jittered'] = add_jitter(results_static['stage_x'])\n",
    "results_static['y_jittered'] = add_jitter(results_static['stage_y'])\n",
    "results_changed['x_jittered'] = add_jitter(results_changed['stage_x'])\n",
    "results_changed['y_jittered'] = add_jitter(results_changed['stage_y'])\n",
    "\n",
    "# Start plotting\n",
    "plt.figure(figsize=(10, 6))\n",
    "custom_palette = sns.color_palette('deep')[:2]\n",
    "# reversed_palette = custom_palette[::-1]\n",
    "# Plot static points with circles\n",
    "sns.scatterplot(data=results_static, x='x_jittered', y='y_jittered',\n",
    "                hue='subtype_y', s=100, marker='o', \n",
    "                palette={'Disc-first': custom_palette[0], 'Facet-first': custom_palette[1]}\n",
    "                )\n",
    "\n",
    "# Plot changed points with triangles (no hue used here, but you could add it)\n",
    "sns.scatterplot(data=results_changed, x='x_jittered', y='y_jittered',\n",
    "                hue='subtype_y', marker='^', s=140, legend=False)\n",
    "\n",
    "# Create custom triangle legend handle (black triangle)\n",
    "triangle_handle = mlines.Line2D([], [], color='grey', marker='^', linestyle='None',\n",
    "                                markersize=10, label='Subtype Change')\n",
    "# Decorations\n",
    "plt.title('EBM stage at baseline vs follow-up (n = 56)')\n",
    "plt.xlabel('Stage at baseline')\n",
    "plt.ylabel('Stage at follow-up')\n",
    "plt.plot([0, 20], [0, 20], color='red', linestyle='--')\n",
    "plt.grid()\n",
    "\n",
    "handles, labels = plt.gca().get_legend_handles_labels()\n",
    "handles.append(triangle_handle)\n",
    "labels.append('Subtype change')\n",
    "\n",
    "plt.legend(handles=handles, labels=labels, title='Subtype at follow-up',\n",
    "           bbox_to_anchor=(1.05, 1), loc='upper left')\n",
    "\n",
    "plt.tight_layout()\n",
    "plt.savefig(f'/tmcs/outputs/{dataset_name}_subtype_change_plot.pdf', bbox_inches='tight')\n",
    "plt.show()"
   ]
  }
 ],
 "metadata": {
  "kernelspec": {
   "display_name": "base",
   "language": "python",
   "name": "python3"
  },
  "language_info": {
   "codemirror_mode": {
    "name": "ipython",
    "version": 3
   },
   "file_extension": ".py",
   "mimetype": "text/x-python",
   "name": "python",
   "nbconvert_exporter": "python",
   "pygments_lexer": "ipython3",
   "version": "3.9.13"
  }
 },
 "nbformat": 4,
 "nbformat_minor": 5
}
